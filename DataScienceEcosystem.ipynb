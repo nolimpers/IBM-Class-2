{
 "cells": [
  {
   "cell_type": "markdown",
   "id": "0ccfdd97-b989-41b7-8a75-d6a5d9948d21",
   "metadata": {},
   "source": [
    "# Data Science Tools and Ecosystem"
   ]
  },
  {
   "cell_type": "markdown",
   "id": "9120576a-3ead-4550-a3bc-fe6c51d2ae07",
   "metadata": {},
   "source": [
    "## In this notebook, Data Science Tools and Ecosystem are summarized."
   ]
  },
  {
   "cell_type": "markdown",
   "id": "29448229-f3e5-4be7-9504-17656ea97a96",
   "metadata": {},
   "source": [
    "## Objectives\n",
    "- List languages for DS\n",
    "- List libraries for DS\n",
    "- List tools for DS"
   ]
  },
  {
   "cell_type": "markdown",
   "id": "e5ff4c28-17b1-422d-aa01-f51872b5a1e7",
   "metadata": {},
   "source": [
    "### Some of the popular languages that Data Scientists use are:\n",
    "1. Python\n",
    "2. R\n",
    "3. Julia\n",
    "4. Scala"
   ]
  },
  {
   "cell_type": "markdown",
   "id": "af5b1ea4-63d8-4c44-8b32-5bd08d9c6b23",
   "metadata": {},
   "source": [
    "### Some of the commonly used libraries used by Data Scientists include:\n",
    "1. Numpy\n",
    "2. Pandas\n",
    "3. Matplotlib"
   ]
  },
  {
   "cell_type": "markdown",
   "id": "7a6d1a60-6b60-4830-bd44-3df791357080",
   "metadata": {},
   "source": [
    "| Data Science Tools |\n",
    "| ------ |\n",
    "| Jupyter Notebook |\n",
    "| R Studio |\n",
    "|IBM Watson |\n"
   ]
  },
  {
   "cell_type": "markdown",
   "id": "cf811ebf-a1b1-48ca-b694-d326fc1a95f3",
   "metadata": {},
   "source": [
    "### Below are a few examples of evaluating arithmetic expressions in Python"
   ]
  },
  {
   "cell_type": "code",
   "execution_count": 4,
   "id": "ff2df3a4-b58d-4f3f-aecb-b5ccd6668307",
   "metadata": {},
   "outputs": [
    {
     "data": {
      "text/plain": [
       "17"
      ]
     },
     "execution_count": 4,
     "metadata": {},
     "output_type": "execute_result"
    }
   ],
   "source": [
    "# This is a simple arithmetic expression to multiply then add integers\n",
    "(3*4)+5"
   ]
  },
  {
   "cell_type": "code",
   "execution_count": 13,
   "id": "47a8439d-2627-4c08-8fec-37804a24697e",
   "metadata": {},
   "outputs": [
    {
     "name": "stdout",
     "output_type": "stream",
     "text": [
      "200 minutes is equal to3.3333333333333335hours\n"
     ]
    }
   ],
   "source": [
    "# This will convert hours to minutes by dividing by 60\n",
    "print(\"200 minutes is equal to\"+str(200/60)+\"hours\")"
   ]
  },
  {
   "cell_type": "markdown",
   "id": "58440c90-7f9b-4a9d-85cf-de65e0237959",
   "metadata": {},
   "source": [
    "## Author\n",
    "Todd Wilcox"
   ]
  },
  {
   "cell_type": "code",
   "execution_count": null,
   "id": "2818445b-d294-44c5-8265-4213e6abd82c",
   "metadata": {},
   "outputs": [],
   "source": []
  }
 ],
 "metadata": {
  "kernelspec": {
   "display_name": "Python 3 (ipykernel)",
   "language": "python",
   "name": "python3"
  },
  "language_info": {
   "codemirror_mode": {
    "name": "ipython",
    "version": 3
   },
   "file_extension": ".py",
   "mimetype": "text/x-python",
   "name": "python",
   "nbconvert_exporter": "python",
   "pygments_lexer": "ipython3",
   "version": "3.11.5"
  }
 },
 "nbformat": 4,
 "nbformat_minor": 5
}
